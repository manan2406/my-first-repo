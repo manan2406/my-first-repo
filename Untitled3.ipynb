{
  "nbformat": 4,
  "nbformat_minor": 0,
  "metadata": {
    "colab": {
      "provenance": [],
      "authorship_tag": "ABX9TyNjYAH1aLfygIegC7+MIJgU",
      "include_colab_link": true
    },
    "kernelspec": {
      "name": "python3",
      "display_name": "Python 3"
    },
    "language_info": {
      "name": "python"
    }
  },
  "cells": [
    {
      "cell_type": "markdown",
      "metadata": {
        "id": "view-in-github",
        "colab_type": "text"
      },
      "source": [
        "<a href=\"https://colab.research.google.com/github/manan2406/my-first-repo/blob/main/Untitled3.ipynb\" target=\"_parent\"><img src=\"https://colab.research.google.com/assets/colab-badge.svg\" alt=\"Open In Colab\"/></a>"
      ]
    },
    {
      "cell_type": "code",
      "source": [
        "import math"
      ],
      "metadata": {
        "id": "8tzsqn-OTPRN"
      },
      "execution_count": 15,
      "outputs": []
    },
    {
      "cell_type": "code",
      "execution_count": 13,
      "metadata": {
        "colab": {
          "base_uri": "https://localhost:8080/"
        },
        "id": "R3lhqRu3NpbV",
        "outputId": "eef705f5-2682-4fcf-f833-8450debc9bed"
      },
      "outputs": [
        {
          "output_type": "stream",
          "name": "stdout",
          "text": [
            "11\n",
            "561\n"
          ]
        }
      ],
      "source": [
        "def add(a,b): \n",
        "  return a+b\n",
        "def subtract(a,b):\n",
        "  return a-b\n",
        "def multiply(a,b):\n",
        "  return a*b\n",
        "def divide(a,b):\n",
        "  return a/b\n",
        "\n",
        "result = add(10,1)\n",
        "print(result)\n",
        "\n",
        "result = multiply(17,33)\n",
        "print(result)"
      ]
    },
    {
      "cell_type": "code",
      "source": [
        "square_root = math.sqrt(36)\n",
        "print(\"square root of a number:\" ,square_root)"
      ],
      "metadata": {
        "colab": {
          "base_uri": "https://localhost:8080/"
        },
        "id": "_VNOciElTLLN",
        "outputId": "e892c743-73c3-44b0-bdf2-54b13812d936"
      },
      "execution_count": 16,
      "outputs": [
        {
          "output_type": "stream",
          "name": "stdout",
          "text": [
            "square root of a number: 6.0\n"
          ]
        }
      ]
    },
    {
      "cell_type": "code",
      "source": [
        "from random import randint\n",
        "\n",
        "num = randint(1,50)\n",
        "print(num)"
      ],
      "metadata": {
        "colab": {
          "base_uri": "https://localhost:8080/"
        },
        "id": "40lsUTVLTjiw",
        "outputId": "f47077c2-f2f1-4521-bda0-4d5789f1a2e5"
      },
      "execution_count": 19,
      "outputs": [
        {
          "output_type": "stream",
          "name": "stdout",
          "text": [
            "33\n"
          ]
        }
      ]
    },
    {
      "cell_type": "code",
      "source": [
        "def add(a,b): \n",
        "  return a+b\n",
        "def subtract(a,b):\n",
        "  return a-b\n",
        "def multiply(a,b):\n",
        "  return a*b\n",
        "def divide(a,b):\n",
        "  return a/b\n",
        "def percentage(a,b):\n",
        "  return a/b*100\n",
        "def percentile(a,b):\n",
        "  return (a/100)*b\n",
        "\n",
        "print(\"please select the required operation: \")\n",
        "print(\"a. add\")\n",
        "print(\"b. subtract\")\n",
        "print(\"c. multiply\")\n",
        "print(\"d. divide\")\n",
        "print(\"e. percentage\")\n",
        "print(\"f. percentile rank\")\n",
        "\n",
        "choice= input(\"please enter choice (a/ b/ c/ d/ e/ f):\")\n",
        "\n",
        "num_1=int(input(\"please enter the first no.: \"))\n",
        "num_2=int(input(\"please enter the secont no.: \"))\n",
        "\n",
        "if choice == 'a':\n",
        "  print(num_1,\"+\",num_2,\"=\",add(num_1,num_2))\n",
        "elif choice == 'b':\n",
        "  print(num_1,\"-\",num_2,\"=\",subtract(num_1,num_2))\n",
        "elif choice == 'c':\n",
        "  print(num_1,\"*\",num_2,\"=\",multiply(num_1,num_2))\n",
        "elif choice == 'd':\n",
        "  print(num_1,\"/\",num_2,\"=\",divide(num_1,num_2))\n",
        "elif choice == 'e':\n",
        "  print(num_1,\"out of\",num_2,\"in percentage = \", percentage(num_1,num_2))\n",
        "elif choice == 'f':\n",
        "  print(num_1,\"th percentile from n =>\",num_2,\"=\",round(percentile(num_1,num_2)),\"th value\")\n",
        "else:\n",
        "  print(\"invalid input\")\n"
      ],
      "metadata": {
        "colab": {
          "base_uri": "https://localhost:8080/"
        },
        "id": "ked22lEwT0Bo",
        "outputId": "320dfc89-66e2-4778-ed6b-7a6dac365e4d"
      },
      "execution_count": 2,
      "outputs": [
        {
          "output_type": "stream",
          "name": "stdout",
          "text": [
            "please select the required operation: \n",
            "a. add\n",
            "b. subtract\n",
            "c. multiply\n",
            "d. divide\n",
            "e. percentage\n",
            "f. percentile rank\n",
            "please enter choice (a/ b/ c/ d/ e/ f):f\n",
            "please enter the first no.: 75\n",
            "please enter the secont no.: 50\n",
            "75 th percentile from n => 50 is 38 th value\n"
          ]
        }
      ]
    },
    {
      "cell_type": "code",
      "source": [],
      "metadata": {
        "id": "QTED2lZ7B41g"
      },
      "execution_count": null,
      "outputs": []
    },
    {
      "cell_type": "code",
      "source": [
        "language = [\"python\",\"java\",\"C++\",\"JS\"]"
      ],
      "metadata": {
        "id": "RBtKVAfMXmlS"
      },
      "execution_count": 6,
      "outputs": []
    },
    {
      "cell_type": "code",
      "source": [
        "for i in range(21): #range(start, stop, step)\n",
        "  if i % 2==  0:\n",
        "    print(i)"
      ],
      "metadata": {
        "colab": {
          "base_uri": "https://localhost:8080/"
        },
        "id": "N-Hbv3j8D6O2",
        "outputId": "d3d3dcac-9bba-40e5-a9a5-36df8bdd1005"
      },
      "execution_count": 17,
      "outputs": [
        {
          "output_type": "stream",
          "name": "stdout",
          "text": [
            "0\n",
            "2\n",
            "4\n",
            "6\n",
            "8\n",
            "10\n",
            "12\n",
            "14\n",
            "16\n",
            "18\n",
            "20\n"
          ]
        }
      ]
    },
    {
      "cell_type": "code",
      "source": [
        "list= [10,20,30,40,50,60,70,80,90,100]\n",
        "print(list[:])      #slice operator "
      ],
      "metadata": {
        "colab": {
          "base_uri": "https://localhost:8080/"
        },
        "id": "zVrxAUTIJPzK",
        "outputId": "0f39a399-452e-41e8-f041-34825e416c62"
      },
      "execution_count": 22,
      "outputs": [
        {
          "output_type": "stream",
          "name": "stdout",
          "text": [
            "[10, 20, 30, 40, 50, 60, 70, 80, 90, 100]\n"
          ]
        }
      ]
    },
    {
      "cell_type": "code",
      "source": [
        "print(\"good \" + \"evening\") #concatination "
      ],
      "metadata": {
        "colab": {
          "base_uri": "https://localhost:8080/"
        },
        "id": "fptpctMQJnJs",
        "outputId": "f7ad161f-28e2-4768-db26-39483ec1b5d9"
      },
      "execution_count": 24,
      "outputs": [
        {
          "output_type": "stream",
          "name": "stdout",
          "text": [
            "good evening\n"
          ]
        }
      ]
    },
    {
      "cell_type": "code",
      "source": [
        "print(\"python \" * 3) #replication "
      ],
      "metadata": {
        "colab": {
          "base_uri": "https://localhost:8080/"
        },
        "id": "itSdPEX4Kv6Z",
        "outputId": "4dd48f09-087b-42e0-b8b4-13eed41b58b0"
      },
      "execution_count": 25,
      "outputs": [
        {
          "output_type": "stream",
          "name": "stdout",
          "text": [
            "python python python \n"
          ]
        }
      ]
    },
    {
      "cell_type": "code",
      "source": [
        "for i in range (1,6):\n",
        "  if i==3:\n",
        "    continue\n",
        "  print(i)"
      ],
      "metadata": {
        "colab": {
          "base_uri": "https://localhost:8080/"
        },
        "id": "n_I2GyJiMbcY",
        "outputId": "c8be58b9-b408-4bf2-88c5-c1de0e82b4d7"
      },
      "execution_count": 30,
      "outputs": [
        {
          "output_type": "stream",
          "name": "stdout",
          "text": [
            "1\n",
            "2\n",
            "4\n",
            "5\n"
          ]
        }
      ]
    },
    {
      "cell_type": "code",
      "source": [
        "i = 1           #initalize the counter variable\n",
        "while i < 6:    #check the condition\n",
        "  print(i)\n",
        "  i=i+1        #increment counter"
      ],
      "metadata": {
        "colab": {
          "base_uri": "https://localhost:8080/"
        },
        "id": "MlvOjIPTOCOv",
        "outputId": "0607a5a7-14ba-44c6-8742-76c8a3e29a28"
      },
      "execution_count": 33,
      "outputs": [
        {
          "output_type": "stream",
          "name": "stdout",
          "text": [
            "1\n",
            "2\n",
            "3\n",
            "4\n",
            "5\n"
          ]
        }
      ]
    },
    {
      "cell_type": "code",
      "source": [
        "#nested loop\n",
        "for i in range(2):\n",
        "  print(i)\n",
        "  for j in range(10,13):\n",
        "    print(j)"
      ],
      "metadata": {
        "colab": {
          "base_uri": "https://localhost:8080/"
        },
        "id": "ReOFPDV1MhYC",
        "outputId": "5c10ae9d-6274-4341-fb99-9e1374047d7c"
      },
      "execution_count": 34,
      "outputs": [
        {
          "output_type": "stream",
          "name": "stdout",
          "text": [
            "0\n",
            "10\n",
            "11\n",
            "12\n",
            "1\n",
            "10\n",
            "11\n",
            "12\n"
          ]
        }
      ]
    },
    {
      "cell_type": "code",
      "source": [
        "def percentage(a,b):\n",
        "  return a/b*100\n",
        "\n",
        "a = int(input(\"enter value : \"))\n",
        "b = int(input(\"enter total value : \"))\n",
        "print(a,\"out of\",b,\"in percentage = \", percentage(a,b))"
      ],
      "metadata": {
        "colab": {
          "base_uri": "https://localhost:8080/"
        },
        "id": "Bw3zmy7WN830",
        "outputId": "d8fe4529-2670-4edb-eda6-dfaa15f2a4ca"
      },
      "execution_count": 4,
      "outputs": [
        {
          "output_type": "stream",
          "name": "stdout",
          "text": [
            "enter value : 63\n",
            "enter total value : 137\n",
            "63 out of 137 in percentage =  45.98540145985402\n"
          ]
        }
      ]
    },
    {
      "cell_type": "code",
      "source": [],
      "metadata": {
        "id": "FacEETkmxX6q"
      },
      "execution_count": null,
      "outputs": []
    }
  ]
}